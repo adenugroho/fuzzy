{
  "nbformat": 4,
  "nbformat_minor": 0,
  "metadata": {
    "colab": {
      "provenance": [],
      "authorship_tag": "ABX9TyNQVR6MrHppIxKSLZ/giM60",
      "include_colab_link": true
    },
    "kernelspec": {
      "name": "python3",
      "display_name": "Python 3"
    },
    "language_info": {
      "name": "python"
    }
  },
  "cells": [
    {
      "cell_type": "markdown",
      "metadata": {
        "id": "view-in-github",
        "colab_type": "text"
      },
      "source": [
        "<a href=\"https://colab.research.google.com/github/adenugroho/fuzzy/blob/main/Dian%20Ade%20-%20G.241.22.0002%20-%20FUZZY.ipynb\" target=\"_parent\"><img src=\"https://colab.research.google.com/assets/colab-badge.svg\" alt=\"Open In Colab\"/></a>"
      ]
    },
    {
      "cell_type": "code",
      "execution_count": 20,
      "metadata": {
        "id": "nLEY1CKeTldn"
      },
      "outputs": [],
      "source": [
        "def turun(b,a,x):\n",
        "    if(x<=a):\n",
        "        nilai = 1\n",
        "    elif(x>a and x<b):\n",
        "        nilai = (b-x)/(b-a)\n",
        "    elif(x>=b):\n",
        "        nilai = 0\n",
        "\n",
        "    return nilai"
      ]
    },
    {
      "cell_type": "code",
      "source": [
        "def naik(b,a,x):\n",
        "    if(x<=a):\n",
        "        nilai = 0\n",
        "    elif(x>a and x<b):\n",
        "        nilai = (x-a)/(b-a)\n",
        "    elif(x>=b):\n",
        "        nilai = 1\n",
        "\n",
        "    return nilai"
      ],
      "metadata": {
        "id": "4w0wAVMx3Tqp"
      },
      "execution_count": 21,
      "outputs": []
    },
    {
      "cell_type": "code",
      "source": [
        "def agregasi_turun(b,a,alfa):\n",
        "    nilai = b - (alfa*(b-a))\n",
        "    return nilai"
      ],
      "metadata": {
        "id": "IiXZxksO3VoB"
      },
      "execution_count": 22,
      "outputs": []
    },
    {
      "cell_type": "code",
      "source": [
        "def agregasi_naik(b,a,alfa):\n",
        "    nilai = alfa*(b-a) + a\n",
        "    return nilai"
      ],
      "metadata": {
        "id": "r3hVpALP3YS0"
      },
      "execution_count": 23,
      "outputs": []
    },
    {
      "cell_type": "code",
      "source": [
        "var = int(input(\"Jumlah variabel: \"))\n",
        "\n",
        "nama_var = []\n",
        "for i in range(var):\n",
        "    nama = input(\"Sebutkan nama variabel: \")\n",
        "    nama_var.append(nama)"
      ],
      "metadata": {
        "id": "w-bW3HJ03a91",
        "colab": {
          "base_uri": "https://localhost:8080/"
        },
        "outputId": "04d6615a-a1eb-4c5d-cf8c-1612c7b2fbf7"
      },
      "execution_count": 24,
      "outputs": [
        {
          "name": "stdout",
          "output_type": "stream",
          "text": [
            "Jumlah variabel: 3\n",
            "Sebutkan nama variabel: mahasiswa\n",
            "Sebutkan nama variabel: magang\n",
            "Sebutkan nama variabel: lulus\n"
          ]
        }
      ]
    },
    {
      "cell_type": "code",
      "source": [
        "variabel = dict()\n",
        "for i in nama_var:\n",
        "    print(i)\n",
        "    up = int(input(\"naik : \"))\n",
        "    down = int(input(\"turun : \"))\n",
        "    variabel.update({i+\"_naik\":up})\n",
        "    variabel.update({i+\"_turun\":down})\n",
        "\n",
        "print(variabel)"
      ],
      "metadata": {
        "colab": {
          "base_uri": "https://localhost:8080/"
        },
        "id": "MbV90NPX3q6p",
        "outputId": "65074143-4f3c-4e51-d8a2-467027c354e9"
      },
      "execution_count": 25,
      "outputs": [
        {
          "output_type": "stream",
          "name": "stdout",
          "text": [
            "mahasiswa\n",
            "naik : 8000\n",
            "turun : 6000\n",
            "magang\n",
            "naik : 5000\n",
            "turun : 4500\n",
            "lulus\n",
            "naik : 6000\n",
            "turun : 5000\n",
            "{'mahasiswa_naik': 8000, 'mahasiswa_turun': 6000, 'magang_naik': 5000, 'magang_turun': 4500, 'lulus_naik': 6000, 'lulus_turun': 5000}\n"
          ]
        }
      ]
    },
    {
      "cell_type": "code",
      "source": [
        "soal = dict()\n",
        "\n",
        "jml = int(input(\"Jumlah variabel yang diketahui : \"))\n",
        "\n",
        "for i in range(jml):\n",
        "    ver = input(\"Nama variabel : \")\n",
        "    val = int(input(\"Nilai : \"))\n",
        "    soal.update({ver:val})\n",
        "\n",
        "print(soal)\n",
        "\n",
        "dit = input(\"Variabel yang ditanyakan : \")"
      ],
      "metadata": {
        "id": "W23UHlECFWyl",
        "outputId": "6b4446c2-6455-4abd-abc4-6add49e37a34",
        "colab": {
          "base_uri": "https://localhost:8080/"
        }
      },
      "execution_count": 26,
      "outputs": [
        {
          "name": "stdout",
          "output_type": "stream",
          "text": [
            "Jumlah variabel yang diketahui : 2\n",
            "Nama variabel : mahasiswa\n",
            "Nilai : 4000\n",
            "Nama variabel : magang\n",
            "Nilai : 3000\n",
            "{'mahasiswa': 4000, 'magang': 3000}\n",
            "Variabel yang ditanyakan : lulus\n"
          ]
        }
      ]
    },
    {
      "cell_type": "code",
      "source": [
        "nk = dict()\n",
        "for i in soal:\n",
        "    up = naik(variabel[i+\"_naik\"],variabel[i+\"_turun\"],soal[i])\n",
        "    down = turun(variabel[i+\"_naik\"],variabel[i+\"_turun\"],soal[i])\n",
        "    nk.update({i+\"_naik\":up})\n",
        "    nk.update({i+\"_turun\":down})\n",
        "\n",
        "print(nk)"
      ],
      "metadata": {
        "colab": {
          "base_uri": "https://localhost:8080/"
        },
        "id": "1FBQXt6LHIQ9",
        "outputId": "880af724-877a-4695-ee2d-c67041ec35c3"
      },
      "execution_count": 27,
      "outputs": [
        {
          "output_type": "stream",
          "name": "stdout",
          "text": [
            "{'mahasiswa_naik': 0, 'mahasiswa_turun': 1, 'magang_naik': 0, 'magang_turun': 1}\n"
          ]
        }
      ]
    },
    {
      "cell_type": "code",
      "source": [
        "#AGREGASI\n",
        "alfa = []\n",
        "z = []\n",
        "\n",
        "r = int(input(\"Masukkan jumlah peraturan : \"))\n",
        "\n",
        "for i in range(r):\n",
        "    kondisi1 = input(\"Kondisi 1(naik/turun): \")\n",
        "    kondisi2 = input(\"Kondisi 2(naik/turun): \")\n",
        "    kesimpulan = input(\"Kesimpulan(naik/turun): \")\n",
        "    #Fire Strength INTERSEKSI (AND)\n",
        "    a = min(nk[kondisi1],nk[kondisi2])\n",
        "    alfa.append(a)\n",
        "    if(kesimpulan == \"turun\"):\n",
        "        zz = agregasi_turun(variabel[dit+\"_naik\"],variabel[dit+\"_turun\"],a)\n",
        "    elif(kesimpulan == \"naik\"):\n",
        "        zz = agregasi_naik(variabel[dit+\"_naik\"],variabel[dit+\"_turun\"],a)\n",
        "    z.append(zz)"
      ],
      "metadata": {
        "colab": {
          "base_uri": "https://localhost:8080/"
        },
        "id": "ztZM7pDMkgNh",
        "outputId": "a20e1d70-f0cb-4ebd-8195-0639691e14da"
      },
      "execution_count": 31,
      "outputs": [
        {
          "name": "stdout",
          "output_type": "stream",
          "text": [
            "Masukkan jumlah peraturan : 4\n",
            "Kondisi 1(naik/turun): mahasiswa_naik\n",
            "Kondisi 2(naik/turun): magang_naik\n",
            "Kesimpulan(naik/turun): naik\n",
            "Kondisi 1(naik/turun): mahasiswa_naik\n",
            "Kondisi 2(naik/turun): magang_turun\n",
            "Kesimpulan(naik/turun): turun\n",
            "Kondisi 1(naik/turun): mahasiswa_turun\n",
            "Kondisi 2(naik/turun): magang_naik\n",
            "Kesimpulan(naik/turun): naik\n",
            "Kondisi 1(naik/turun): mahasiswa_turun\n",
            "Kondisi 2(naik/turun): magang_turun\n",
            "Kesimpulan(naik/turun): turun\n"
          ]
        }
      ]
    },
    {
      "cell_type": "code",
      "source": [
        "print(alfa)\n",
        "print(z)"
      ],
      "metadata": {
        "colab": {
          "base_uri": "https://localhost:8080/"
        },
        "id": "ZJeCUtuJkhCr",
        "outputId": "c785b5c0-b445-445b-feaf-0a3ea9d2eb70"
      },
      "execution_count": 32,
      "outputs": [
        {
          "output_type": "stream",
          "name": "stdout",
          "text": [
            "[0, 0, 0, 1]\n",
            "[5000, 6000, 5000, 5000]\n"
          ]
        }
      ]
    },
    {
      "cell_type": "code",
      "source": [],
      "metadata": {
        "id": "JtYLl9pHm0Ou"
      },
      "execution_count": null,
      "outputs": []
    },
    {
      "cell_type": "code",
      "source": [
        "\n",
        "df = 0\n",
        "\n",
        "for i in range(len(alfa)):\n",
        "    df += alfa[i]*z[i]\n",
        "\n",
        "defuz = int(df/sum(alfa))\n",
        "\n",
        "print(\"Jadi, nilai \",dit,\" adalah \",defuz)"
      ],
      "metadata": {
        "colab": {
          "base_uri": "https://localhost:8080/"
        },
        "id": "pwid8a5dm4zT",
        "outputId": "a0c4064d-39c0-4df5-f481-4e1feca8258d"
      },
      "execution_count": 33,
      "outputs": [
        {
          "output_type": "stream",
          "name": "stdout",
          "text": [
            "Jadi, nilai  lulus  adalah  5000\n"
          ]
        }
      ]
    }
  ]
}